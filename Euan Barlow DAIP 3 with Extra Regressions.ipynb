{
 "cells": [
  {
   "cell_type": "markdown",
   "metadata": {},
   "source": [
    "# Euan Barlow DAIP 3"
   ]
  },
  {
   "cell_type": "markdown",
   "metadata": {},
   "source": [
    "The following code creates four linear regression models:\n",
    "\n",
    "1. Base Model: Independent Variables are IsHoliday, Temperature, Fuel_Price, CPI, Unemployment, Year, Month and the Dependent Variable is Weekly_Sales\n",
    "2. Added Stores as Dummy Variables\n",
    "3. Added Stores and Type as Dummy Variables\n",
    "4. Added Stores, Type and Dept. as Dummy Variables"
   ]
  },
  {
   "cell_type": "markdown",
   "metadata": {},
   "source": [
    "#### Source \n",
    "https://www.youtube.com/watch?v=BFgbfk3LYtw"
   ]
  },
  {
   "cell_type": "markdown",
   "metadata": {},
   "source": [
    "### 1. Import Packages"
   ]
  },
  {
   "cell_type": "code",
   "execution_count": 1,
   "metadata": {},
   "outputs": [],
   "source": [
    "import pandas as pd\n",
    "from sklearn.preprocessing import StandardScaler\n",
    "from sklearn.model_selection import train_test_split\n",
    "from sklearn.metrics import mean_squared_error\n",
    "\n",
    "from sklearn.linear_model import LinearRegression, LassoLars, BayesianRidge, HuberRegressor, ARDRegression, PassiveAggressiveRegressor"
   ]
  },
  {
   "cell_type": "markdown",
   "metadata": {},
   "source": [
    "### 2. Load Datasets"
   ]
  },
  {
   "cell_type": "code",
   "execution_count": 2,
   "metadata": {},
   "outputs": [],
   "source": [
    "data_by_dept = pd.read_csv(\"C:/Users/elija/OneDrive - University of Strathclyde/DAIP Project 3/data_by_dept.csv\")\n",
    "data_by_store = pd.read_csv(\"C:/Users/elija/OneDrive - University of Strathclyde/DAIP Project 3/data_by_store.csv\")\n",
    "data_by_store_type = pd.read_csv(\"C:/Users/elija/OneDrive - University of Strathclyde/DAIP Project 3/data_by_store.csv\")\n",
    "data_by_week = pd.read_csv(\"C:/Users/elija/OneDrive - University of Strathclyde/DAIP Project 3/data_by_week.csv\")\n",
    "data_by_week_with_means = pd.read_csv(\"C:/Users/elija/OneDrive - University of Strathclyde/DAIP Project 3/data_by_week_with_means.csv\")"
   ]
  },
  {
   "cell_type": "markdown",
   "metadata": {},
   "source": [
    "### 3. Data Exploration"
   ]
  },
  {
   "cell_type": "code",
   "execution_count": 3,
   "metadata": {},
   "outputs": [
    {
     "name": "stdout",
     "output_type": "stream",
     "text": [
      "<class 'pandas.core.frame.DataFrame'>\n",
      "RangeIndex: 6435 entries, 0 to 6434\n",
      "Data columns (total 15 columns):\n",
      " #   Column        Non-Null Count  Dtype  \n",
      "---  ------        --------------  -----  \n",
      " 0   Date          6435 non-null   object \n",
      " 1   Store         6435 non-null   int64  \n",
      " 2   IsHoliday     6435 non-null   bool   \n",
      " 3   Temperature   6435 non-null   float64\n",
      " 4   Fuel_Price    6435 non-null   float64\n",
      " 5   MarkDown1     2280 non-null   float64\n",
      " 6   MarkDown2     1637 non-null   float64\n",
      " 7   MarkDown3     2046 non-null   float64\n",
      " 8   MarkDown4     1965 non-null   float64\n",
      " 9   MarkDown5     2295 non-null   float64\n",
      " 10  CPI           6435 non-null   float64\n",
      " 11  Unemployment  6435 non-null   float64\n",
      " 12  Type          6435 non-null   object \n",
      " 13  Size          6435 non-null   int64  \n",
      " 14  Weekly_Sales  6435 non-null   float64\n",
      "dtypes: bool(1), float64(10), int64(2), object(2)\n",
      "memory usage: 710.2+ KB\n"
     ]
    }
   ],
   "source": [
    "data_by_store.info()"
   ]
  },
  {
   "cell_type": "markdown",
   "metadata": {},
   "source": [
    "### 4. Base Model Linear Regression - \"Data by week with means\""
   ]
  },
  {
   "cell_type": "markdown",
   "metadata": {},
   "source": [
    "#### Data Exploration"
   ]
  },
  {
   "cell_type": "code",
   "execution_count": 4,
   "metadata": {
    "scrolled": true
   },
   "outputs": [
    {
     "data": {
      "text/html": [
       "<div>\n",
       "<style scoped>\n",
       "    .dataframe tbody tr th:only-of-type {\n",
       "        vertical-align: middle;\n",
       "    }\n",
       "\n",
       "    .dataframe tbody tr th {\n",
       "        vertical-align: top;\n",
       "    }\n",
       "\n",
       "    .dataframe thead th {\n",
       "        text-align: right;\n",
       "    }\n",
       "</style>\n",
       "<table border=\"1\" class=\"dataframe\">\n",
       "  <thead>\n",
       "    <tr style=\"text-align: right;\">\n",
       "      <th></th>\n",
       "      <th>Date</th>\n",
       "      <th>IsHoliday</th>\n",
       "      <th>Temperature</th>\n",
       "      <th>Fuel_Price</th>\n",
       "      <th>MarkDown1</th>\n",
       "      <th>MarkDown2</th>\n",
       "      <th>MarkDown3</th>\n",
       "      <th>MarkDown4</th>\n",
       "      <th>MarkDown5</th>\n",
       "      <th>CPI</th>\n",
       "      <th>Unemployment</th>\n",
       "      <th>Weekly_Sales</th>\n",
       "    </tr>\n",
       "  </thead>\n",
       "  <tbody>\n",
       "    <tr>\n",
       "      <th>0</th>\n",
       "      <td>01/04/2011</td>\n",
       "      <td>False</td>\n",
       "      <td>47.942362</td>\n",
       "      <td>3.602446</td>\n",
       "      <td>NaN</td>\n",
       "      <td>NaN</td>\n",
       "      <td>NaN</td>\n",
       "      <td>NaN</td>\n",
       "      <td>NaN</td>\n",
       "      <td>170.335928</td>\n",
       "      <td>8.107779</td>\n",
       "      <td>43458991.19</td>\n",
       "    </tr>\n",
       "    <tr>\n",
       "      <th>1</th>\n",
       "      <td>01/06/2012</td>\n",
       "      <td>False</td>\n",
       "      <td>72.566966</td>\n",
       "      <td>3.748265</td>\n",
       "      <td>7304.495617</td>\n",
       "      <td>NaN</td>\n",
       "      <td>NaN</td>\n",
       "      <td>NaN</td>\n",
       "      <td>3091.389303</td>\n",
       "      <td>175.292541</td>\n",
       "      <td>7.395012</td>\n",
       "      <td>48281649.72</td>\n",
       "    </tr>\n",
       "    <tr>\n",
       "      <th>2</th>\n",
       "      <td>01/07/2011</td>\n",
       "      <td>False</td>\n",
       "      <td>78.201634</td>\n",
       "      <td>3.678057</td>\n",
       "      <td>NaN</td>\n",
       "      <td>NaN</td>\n",
       "      <td>NaN</td>\n",
       "      <td>NaN</td>\n",
       "      <td>NaN</td>\n",
       "      <td>171.075955</td>\n",
       "      <td>8.057111</td>\n",
       "      <td>47578519.50</td>\n",
       "    </tr>\n",
       "    <tr>\n",
       "      <th>3</th>\n",
       "      <td>01/10/2010</td>\n",
       "      <td>False</td>\n",
       "      <td>69.386998</td>\n",
       "      <td>2.733064</td>\n",
       "      <td>NaN</td>\n",
       "      <td>NaN</td>\n",
       "      <td>NaN</td>\n",
       "      <td>NaN</td>\n",
       "      <td>NaN</td>\n",
       "      <td>168.004935</td>\n",
       "      <td>8.433960</td>\n",
       "      <td>42239875.87</td>\n",
       "    </tr>\n",
       "    <tr>\n",
       "      <th>4</th>\n",
       "      <td>02/03/2012</td>\n",
       "      <td>False</td>\n",
       "      <td>44.817214</td>\n",
       "      <td>3.695368</td>\n",
       "      <td>16660.722836</td>\n",
       "      <td>NaN</td>\n",
       "      <td>NaN</td>\n",
       "      <td>NaN</td>\n",
       "      <td>3535.804692</td>\n",
       "      <td>174.420717</td>\n",
       "      <td>7.481656</td>\n",
       "      <td>46861034.97</td>\n",
       "    </tr>\n",
       "  </tbody>\n",
       "</table>\n",
       "</div>"
      ],
      "text/plain": [
       "         Date  IsHoliday  Temperature  Fuel_Price     MarkDown1  MarkDown2  \\\n",
       "0  01/04/2011      False    47.942362    3.602446           NaN        NaN   \n",
       "1  01/06/2012      False    72.566966    3.748265   7304.495617        NaN   \n",
       "2  01/07/2011      False    78.201634    3.678057           NaN        NaN   \n",
       "3  01/10/2010      False    69.386998    2.733064           NaN        NaN   \n",
       "4  02/03/2012      False    44.817214    3.695368  16660.722836        NaN   \n",
       "\n",
       "   MarkDown3  MarkDown4    MarkDown5         CPI  Unemployment  Weekly_Sales  \n",
       "0        NaN        NaN          NaN  170.335928      8.107779   43458991.19  \n",
       "1        NaN        NaN  3091.389303  175.292541      7.395012   48281649.72  \n",
       "2        NaN        NaN          NaN  171.075955      8.057111   47578519.50  \n",
       "3        NaN        NaN          NaN  168.004935      8.433960   42239875.87  \n",
       "4        NaN        NaN  3535.804692  174.420717      7.481656   46861034.97  "
      ]
     },
     "execution_count": 4,
     "metadata": {},
     "output_type": "execute_result"
    }
   ],
   "source": [
    "data_by_week_with_means.head()"
   ]
  },
  {
   "cell_type": "markdown",
   "metadata": {},
   "source": [
    "#### Data Manipulation - Drop Markdown Columns"
   ]
  },
  {
   "cell_type": "code",
   "execution_count": 5,
   "metadata": {},
   "outputs": [],
   "source": [
    "# drop markdown columns\n",
    "data_by_week_with_means = data_by_week_with_means.drop([\"MarkDown1\",\"MarkDown2\",\"MarkDown3\",\"MarkDown4\",\"MarkDown5\"], 1)"
   ]
  },
  {
   "cell_type": "markdown",
   "metadata": {},
   "source": [
    "#### Data Manipulation - Year and Month"
   ]
  },
  {
   "cell_type": "code",
   "execution_count": 6,
   "metadata": {},
   "outputs": [],
   "source": [
    "# create columns for year and month, drop date column\n",
    "data_by_week_with_means['Year'] = data_by_week_with_means['Date'].apply(lambda x: x[-4:])\n",
    "data_by_week_with_means['Month'] = data_by_week_with_means['Date'].apply(lambda x: x[3:5])\n",
    "\n",
    "data_by_week_with_means = data_by_week_with_means.drop('Date', 1)"
   ]
  },
  {
   "cell_type": "markdown",
   "metadata": {},
   "source": [
    "#### Split and Scale Data"
   ]
  },
  {
   "cell_type": "code",
   "execution_count": 7,
   "metadata": {},
   "outputs": [],
   "source": [
    "y = data_by_week_with_means['Weekly_Sales'].copy()\n",
    "X = data_by_week_with_means.drop('Weekly_Sales', axis=1).copy()"
   ]
  },
  {
   "cell_type": "code",
   "execution_count": 8,
   "metadata": {},
   "outputs": [],
   "source": [
    "scaler = StandardScaler()\n",
    "\n",
    "X = scaler.fit_transform(X)"
   ]
  },
  {
   "cell_type": "code",
   "execution_count": 9,
   "metadata": {},
   "outputs": [],
   "source": [
    "X_train, X_test, y_train, y_test = train_test_split(X, y, train_size=0.7)"
   ]
  },
  {
   "cell_type": "markdown",
   "metadata": {},
   "source": [
    "#### Linear Regression Model"
   ]
  },
  {
   "cell_type": "code",
   "execution_count": 10,
   "metadata": {},
   "outputs": [],
   "source": [
    "lm_model = LinearRegression()"
   ]
  },
  {
   "cell_type": "code",
   "execution_count": 11,
   "metadata": {},
   "outputs": [
    {
     "data": {
      "text/plain": [
       "LinearRegression()"
      ]
     },
     "execution_count": 11,
     "metadata": {},
     "output_type": "execute_result"
    }
   ],
   "source": [
    "lm_model.fit(X_train, y_train)"
   ]
  },
  {
   "cell_type": "code",
   "execution_count": 12,
   "metadata": {
    "scrolled": true
   },
   "outputs": [
    {
     "name": "stdout",
     "output_type": "stream",
     "text": [
      "Linear Regression Accuracy: -2.3693754416752255\n",
      "Linear Regression RMSE:  4344660.222404703\n"
     ]
    }
   ],
   "source": [
    "print(\"Linear Regression Accuracy:\", lm_model.score(X_test, y_test))\n",
    "print(\"Linear Regression RMSE: \", mean_squared_error(y_test, lm_model.predict(X_test), squared=False))"
   ]
  },
  {
   "cell_type": "markdown",
   "metadata": {},
   "source": [
    "#### Other Regression Models"
   ]
  },
  {
   "cell_type": "code",
   "execution_count": 13,
   "metadata": {},
   "outputs": [
    {
     "name": "stdout",
     "output_type": "stream",
     "text": [
      "LassoLars() Accuracy:  -2.369359315148841\n",
      "LassoLars() RMSE:  4344649.825171928\n",
      "BayesianRidge() Accuracy:  -0.23789571872873005\n",
      "BayesianRidge() RMSE:  2633438.2857416496\n",
      "ARDRegression() Accuracy:  -0.23789571872872983\n",
      "ARDRegression() RMSE:  2633438.2857416496\n",
      "PassiveAggressiveRegressor(max_iter=1000000) Accuracy:  -0.5769134955289936\n",
      "PassiveAggressiveRegressor(max_iter=1000000) RMSE:  2972248.0424799426\n",
      "HuberRegressor() Accuracy:  -0.08093309256962189\n",
      "HuberRegressor() RMSE:  2460823.81539906\n"
     ]
    }
   ],
   "source": [
    "models = [LassoLars(), BayesianRidge(), ARDRegression(), PassiveAggressiveRegressor(max_iter=1000000), HuberRegressor()]\n",
    "for model in models:\n",
    "    model.fit(X_train, y_train)\n",
    "    print(model, \"Accuracy: \", model.score(X_test, y_test))\n",
    "    print(model, \"RMSE: \", mean_squared_error(y_test, model.predict(X_test), squared=False))"
   ]
  },
  {
   "cell_type": "markdown",
   "metadata": {},
   "source": [
    "### 5. Linear Regression - \"Data by Store\""
   ]
  },
  {
   "cell_type": "markdown",
   "metadata": {},
   "source": [
    "#### Data Manipulation - Drop Markdown Columns"
   ]
  },
  {
   "cell_type": "code",
   "execution_count": 14,
   "metadata": {},
   "outputs": [],
   "source": [
    "data_by_store = data_by_store.drop([\"MarkDown1\",\"MarkDown2\",\"MarkDown3\",\"MarkDown4\",\"MarkDown5\"], 1)"
   ]
  },
  {
   "cell_type": "markdown",
   "metadata": {},
   "source": [
    "#### Data Manipulation - Drop Type Column"
   ]
  },
  {
   "cell_type": "code",
   "execution_count": 15,
   "metadata": {},
   "outputs": [],
   "source": [
    "data_by_store = data_by_store.drop([\"Type\"], 1)"
   ]
  },
  {
   "cell_type": "markdown",
   "metadata": {},
   "source": [
    "#### Data Manipulation - Year and Month"
   ]
  },
  {
   "cell_type": "code",
   "execution_count": 16,
   "metadata": {},
   "outputs": [],
   "source": [
    "data_by_store['Year'] = data_by_store['Date'].apply(lambda x: x[-4:])\n",
    "data_by_store['Month'] = data_by_store['Date'].apply(lambda x: x[3:5])\n",
    "\n",
    "data_by_store = data_by_store.drop('Date', 1)"
   ]
  },
  {
   "cell_type": "markdown",
   "metadata": {},
   "source": [
    "#### Data Manipulation - Create Dummies for Stores and Type"
   ]
  },
  {
   "cell_type": "code",
   "execution_count": 17,
   "metadata": {},
   "outputs": [],
   "source": [
    "#create dummy function\n",
    "\n",
    "def onehot_encode(df, column, prefix):\n",
    "    df = df.copy()\n",
    "    dummies=pd.get_dummies(df[column], prefix=prefix)\n",
    "    df = pd.concat([df, dummies], axis=1)\n",
    "    df = df.drop(column, axis=1)\n",
    "    return df"
   ]
  },
  {
   "cell_type": "code",
   "execution_count": 18,
   "metadata": {},
   "outputs": [],
   "source": [
    "#dummies for stores\n",
    "\n",
    "data_by_store = onehot_encode(data_by_store, column='Store', prefix=\"store\")"
   ]
  },
  {
   "cell_type": "code",
   "execution_count": 19,
   "metadata": {},
   "outputs": [
    {
     "data": {
      "text/html": [
       "<div>\n",
       "<style scoped>\n",
       "    .dataframe tbody tr th:only-of-type {\n",
       "        vertical-align: middle;\n",
       "    }\n",
       "\n",
       "    .dataframe tbody tr th {\n",
       "        vertical-align: top;\n",
       "    }\n",
       "\n",
       "    .dataframe thead th {\n",
       "        text-align: right;\n",
       "    }\n",
       "</style>\n",
       "<table border=\"1\" class=\"dataframe\">\n",
       "  <thead>\n",
       "    <tr style=\"text-align: right;\">\n",
       "      <th></th>\n",
       "      <th>IsHoliday</th>\n",
       "      <th>Temperature</th>\n",
       "      <th>Fuel_Price</th>\n",
       "      <th>CPI</th>\n",
       "      <th>Unemployment</th>\n",
       "      <th>Size</th>\n",
       "      <th>Weekly_Sales</th>\n",
       "      <th>Year</th>\n",
       "      <th>Month</th>\n",
       "      <th>store_1</th>\n",
       "      <th>...</th>\n",
       "      <th>store_36</th>\n",
       "      <th>store_37</th>\n",
       "      <th>store_38</th>\n",
       "      <th>store_39</th>\n",
       "      <th>store_40</th>\n",
       "      <th>store_41</th>\n",
       "      <th>store_42</th>\n",
       "      <th>store_43</th>\n",
       "      <th>store_44</th>\n",
       "      <th>store_45</th>\n",
       "    </tr>\n",
       "  </thead>\n",
       "  <tbody>\n",
       "    <tr>\n",
       "      <th>0</th>\n",
       "      <td>False</td>\n",
       "      <td>59.17</td>\n",
       "      <td>3.524</td>\n",
       "      <td>214.837166</td>\n",
       "      <td>7.682</td>\n",
       "      <td>151315</td>\n",
       "      <td>1495064.75</td>\n",
       "      <td>2011</td>\n",
       "      <td>04</td>\n",
       "      <td>1</td>\n",
       "      <td>...</td>\n",
       "      <td>0</td>\n",
       "      <td>0</td>\n",
       "      <td>0</td>\n",
       "      <td>0</td>\n",
       "      <td>0</td>\n",
       "      <td>0</td>\n",
       "      <td>0</td>\n",
       "      <td>0</td>\n",
       "      <td>0</td>\n",
       "      <td>0</td>\n",
       "    </tr>\n",
       "    <tr>\n",
       "      <th>1</th>\n",
       "      <td>False</td>\n",
       "      <td>55.43</td>\n",
       "      <td>3.524</td>\n",
       "      <td>214.488691</td>\n",
       "      <td>7.931</td>\n",
       "      <td>202307</td>\n",
       "      <td>1800171.36</td>\n",
       "      <td>2011</td>\n",
       "      <td>04</td>\n",
       "      <td>0</td>\n",
       "      <td>...</td>\n",
       "      <td>0</td>\n",
       "      <td>0</td>\n",
       "      <td>0</td>\n",
       "      <td>0</td>\n",
       "      <td>0</td>\n",
       "      <td>0</td>\n",
       "      <td>0</td>\n",
       "      <td>0</td>\n",
       "      <td>0</td>\n",
       "      <td>0</td>\n",
       "    </tr>\n",
       "    <tr>\n",
       "      <th>2</th>\n",
       "      <td>False</td>\n",
       "      <td>68.76</td>\n",
       "      <td>3.524</td>\n",
       "      <td>218.211418</td>\n",
       "      <td>7.574</td>\n",
       "      <td>37392</td>\n",
       "      <td>374556.08</td>\n",
       "      <td>2011</td>\n",
       "      <td>04</td>\n",
       "      <td>0</td>\n",
       "      <td>...</td>\n",
       "      <td>0</td>\n",
       "      <td>0</td>\n",
       "      <td>0</td>\n",
       "      <td>0</td>\n",
       "      <td>0</td>\n",
       "      <td>0</td>\n",
       "      <td>0</td>\n",
       "      <td>0</td>\n",
       "      <td>0</td>\n",
       "      <td>0</td>\n",
       "    </tr>\n",
       "    <tr>\n",
       "      <th>3</th>\n",
       "      <td>False</td>\n",
       "      <td>56.99</td>\n",
       "      <td>3.521</td>\n",
       "      <td>128.719935</td>\n",
       "      <td>5.946</td>\n",
       "      <td>205863</td>\n",
       "      <td>1900246.47</td>\n",
       "      <td>2011</td>\n",
       "      <td>04</td>\n",
       "      <td>0</td>\n",
       "      <td>...</td>\n",
       "      <td>0</td>\n",
       "      <td>0</td>\n",
       "      <td>0</td>\n",
       "      <td>0</td>\n",
       "      <td>0</td>\n",
       "      <td>0</td>\n",
       "      <td>0</td>\n",
       "      <td>0</td>\n",
       "      <td>0</td>\n",
       "      <td>0</td>\n",
       "    </tr>\n",
       "    <tr>\n",
       "      <th>4</th>\n",
       "      <td>False</td>\n",
       "      <td>61.50</td>\n",
       "      <td>3.524</td>\n",
       "      <td>215.402441</td>\n",
       "      <td>6.489</td>\n",
       "      <td>34875</td>\n",
       "      <td>314316.55</td>\n",
       "      <td>2011</td>\n",
       "      <td>04</td>\n",
       "      <td>0</td>\n",
       "      <td>...</td>\n",
       "      <td>0</td>\n",
       "      <td>0</td>\n",
       "      <td>0</td>\n",
       "      <td>0</td>\n",
       "      <td>0</td>\n",
       "      <td>0</td>\n",
       "      <td>0</td>\n",
       "      <td>0</td>\n",
       "      <td>0</td>\n",
       "      <td>0</td>\n",
       "    </tr>\n",
       "    <tr>\n",
       "      <th>...</th>\n",
       "      <td>...</td>\n",
       "      <td>...</td>\n",
       "      <td>...</td>\n",
       "      <td>...</td>\n",
       "      <td>...</td>\n",
       "      <td>...</td>\n",
       "      <td>...</td>\n",
       "      <td>...</td>\n",
       "      <td>...</td>\n",
       "      <td>...</td>\n",
       "      <td>...</td>\n",
       "      <td>...</td>\n",
       "      <td>...</td>\n",
       "      <td>...</td>\n",
       "      <td>...</td>\n",
       "      <td>...</td>\n",
       "      <td>...</td>\n",
       "      <td>...</td>\n",
       "      <td>...</td>\n",
       "      <td>...</td>\n",
       "      <td>...</td>\n",
       "    </tr>\n",
       "    <tr>\n",
       "      <th>6430</th>\n",
       "      <td>True</td>\n",
       "      <td>25.19</td>\n",
       "      <td>2.829</td>\n",
       "      <td>191.255700</td>\n",
       "      <td>7.508</td>\n",
       "      <td>196321</td>\n",
       "      <td>1001790.16</td>\n",
       "      <td>2010</td>\n",
       "      <td>12</td>\n",
       "      <td>0</td>\n",
       "      <td>...</td>\n",
       "      <td>0</td>\n",
       "      <td>0</td>\n",
       "      <td>0</td>\n",
       "      <td>0</td>\n",
       "      <td>0</td>\n",
       "      <td>1</td>\n",
       "      <td>0</td>\n",
       "      <td>0</td>\n",
       "      <td>0</td>\n",
       "      <td>0</td>\n",
       "    </tr>\n",
       "    <tr>\n",
       "      <th>6431</th>\n",
       "      <td>True</td>\n",
       "      <td>49.67</td>\n",
       "      <td>3.148</td>\n",
       "      <td>127.087677</td>\n",
       "      <td>9.003</td>\n",
       "      <td>39690</td>\n",
       "      <td>428953.60</td>\n",
       "      <td>2010</td>\n",
       "      <td>12</td>\n",
       "      <td>0</td>\n",
       "      <td>...</td>\n",
       "      <td>0</td>\n",
       "      <td>0</td>\n",
       "      <td>0</td>\n",
       "      <td>0</td>\n",
       "      <td>0</td>\n",
       "      <td>0</td>\n",
       "      <td>1</td>\n",
       "      <td>0</td>\n",
       "      <td>0</td>\n",
       "      <td>0</td>\n",
       "    </tr>\n",
       "    <tr>\n",
       "      <th>6432</th>\n",
       "      <td>True</td>\n",
       "      <td>48.61</td>\n",
       "      <td>2.943</td>\n",
       "      <td>203.417684</td>\n",
       "      <td>10.210</td>\n",
       "      <td>41062</td>\n",
       "      <td>534740.30</td>\n",
       "      <td>2010</td>\n",
       "      <td>12</td>\n",
       "      <td>0</td>\n",
       "      <td>...</td>\n",
       "      <td>0</td>\n",
       "      <td>0</td>\n",
       "      <td>0</td>\n",
       "      <td>0</td>\n",
       "      <td>0</td>\n",
       "      <td>0</td>\n",
       "      <td>0</td>\n",
       "      <td>1</td>\n",
       "      <td>0</td>\n",
       "      <td>0</td>\n",
       "    </tr>\n",
       "    <tr>\n",
       "      <th>6433</th>\n",
       "      <td>True</td>\n",
       "      <td>26.79</td>\n",
       "      <td>2.868</td>\n",
       "      <td>127.087677</td>\n",
       "      <td>7.610</td>\n",
       "      <td>39910</td>\n",
       "      <td>241937.11</td>\n",
       "      <td>2010</td>\n",
       "      <td>12</td>\n",
       "      <td>0</td>\n",
       "      <td>...</td>\n",
       "      <td>0</td>\n",
       "      <td>0</td>\n",
       "      <td>0</td>\n",
       "      <td>0</td>\n",
       "      <td>0</td>\n",
       "      <td>0</td>\n",
       "      <td>0</td>\n",
       "      <td>0</td>\n",
       "      <td>1</td>\n",
       "      <td>0</td>\n",
       "    </tr>\n",
       "    <tr>\n",
       "      <th>6434</th>\n",
       "      <td>True</td>\n",
       "      <td>29.67</td>\n",
       "      <td>3.179</td>\n",
       "      <td>182.571448</td>\n",
       "      <td>8.724</td>\n",
       "      <td>118221</td>\n",
       "      <td>679156.20</td>\n",
       "      <td>2010</td>\n",
       "      <td>12</td>\n",
       "      <td>0</td>\n",
       "      <td>...</td>\n",
       "      <td>0</td>\n",
       "      <td>0</td>\n",
       "      <td>0</td>\n",
       "      <td>0</td>\n",
       "      <td>0</td>\n",
       "      <td>0</td>\n",
       "      <td>0</td>\n",
       "      <td>0</td>\n",
       "      <td>0</td>\n",
       "      <td>1</td>\n",
       "    </tr>\n",
       "  </tbody>\n",
       "</table>\n",
       "<p>6435 rows × 54 columns</p>\n",
       "</div>"
      ],
      "text/plain": [
       "      IsHoliday  Temperature  Fuel_Price         CPI  Unemployment    Size  \\\n",
       "0         False        59.17       3.524  214.837166         7.682  151315   \n",
       "1         False        55.43       3.524  214.488691         7.931  202307   \n",
       "2         False        68.76       3.524  218.211418         7.574   37392   \n",
       "3         False        56.99       3.521  128.719935         5.946  205863   \n",
       "4         False        61.50       3.524  215.402441         6.489   34875   \n",
       "...         ...          ...         ...         ...           ...     ...   \n",
       "6430       True        25.19       2.829  191.255700         7.508  196321   \n",
       "6431       True        49.67       3.148  127.087677         9.003   39690   \n",
       "6432       True        48.61       2.943  203.417684        10.210   41062   \n",
       "6433       True        26.79       2.868  127.087677         7.610   39910   \n",
       "6434       True        29.67       3.179  182.571448         8.724  118221   \n",
       "\n",
       "      Weekly_Sales  Year Month  store_1  ...  store_36  store_37  store_38  \\\n",
       "0       1495064.75  2011    04        1  ...         0         0         0   \n",
       "1       1800171.36  2011    04        0  ...         0         0         0   \n",
       "2        374556.08  2011    04        0  ...         0         0         0   \n",
       "3       1900246.47  2011    04        0  ...         0         0         0   \n",
       "4        314316.55  2011    04        0  ...         0         0         0   \n",
       "...            ...   ...   ...      ...  ...       ...       ...       ...   \n",
       "6430    1001790.16  2010    12        0  ...         0         0         0   \n",
       "6431     428953.60  2010    12        0  ...         0         0         0   \n",
       "6432     534740.30  2010    12        0  ...         0         0         0   \n",
       "6433     241937.11  2010    12        0  ...         0         0         0   \n",
       "6434     679156.20  2010    12        0  ...         0         0         0   \n",
       "\n",
       "      store_39  store_40  store_41  store_42  store_43  store_44  store_45  \n",
       "0            0         0         0         0         0         0         0  \n",
       "1            0         0         0         0         0         0         0  \n",
       "2            0         0         0         0         0         0         0  \n",
       "3            0         0         0         0         0         0         0  \n",
       "4            0         0         0         0         0         0         0  \n",
       "...        ...       ...       ...       ...       ...       ...       ...  \n",
       "6430         0         0         1         0         0         0         0  \n",
       "6431         0         0         0         1         0         0         0  \n",
       "6432         0         0         0         0         1         0         0  \n",
       "6433         0         0         0         0         0         1         0  \n",
       "6434         0         0         0         0         0         0         1  \n",
       "\n",
       "[6435 rows x 54 columns]"
      ]
     },
     "execution_count": 19,
     "metadata": {},
     "output_type": "execute_result"
    }
   ],
   "source": [
    "data_by_store"
   ]
  },
  {
   "cell_type": "markdown",
   "metadata": {},
   "source": [
    "#### Split and Scale Data"
   ]
  },
  {
   "cell_type": "code",
   "execution_count": 20,
   "metadata": {},
   "outputs": [],
   "source": [
    "y = data_by_store['Weekly_Sales'].copy()\n",
    "X = data_by_store.drop('Weekly_Sales', axis=1).copy()"
   ]
  },
  {
   "cell_type": "code",
   "execution_count": 21,
   "metadata": {},
   "outputs": [],
   "source": [
    "scaler = StandardScaler()\n",
    "\n",
    "X = scaler.fit_transform(X)"
   ]
  },
  {
   "cell_type": "code",
   "execution_count": 22,
   "metadata": {},
   "outputs": [],
   "source": [
    "X_train, X_test, y_train, y_test = train_test_split(X, y, train_size=0.7)"
   ]
  },
  {
   "cell_type": "markdown",
   "metadata": {},
   "source": [
    "#### Linear Regression Model"
   ]
  },
  {
   "cell_type": "code",
   "execution_count": 23,
   "metadata": {},
   "outputs": [],
   "source": [
    "lm_model = LinearRegression()"
   ]
  },
  {
   "cell_type": "code",
   "execution_count": 24,
   "metadata": {},
   "outputs": [
    {
     "data": {
      "text/plain": [
       "LinearRegression()"
      ]
     },
     "execution_count": 24,
     "metadata": {},
     "output_type": "execute_result"
    }
   ],
   "source": [
    "lm_model.fit(X_train, y_train)"
   ]
  },
  {
   "cell_type": "code",
   "execution_count": 25,
   "metadata": {
    "scrolled": true
   },
   "outputs": [
    {
     "name": "stdout",
     "output_type": "stream",
     "text": [
      "Linear Regression Accuracy: 0.9231717756078652\n",
      "Linear Regression RMSE:  158293.76980501576\n"
     ]
    }
   ],
   "source": [
    "print(\"Linear Regression Accuracy:\", lm_model.score(X_test, y_test))\n",
    "print(\"Linear Regression RMSE: \", mean_squared_error(y_test, lm_model.predict(X_test), squared=False))"
   ]
  },
  {
   "cell_type": "markdown",
   "metadata": {},
   "source": [
    "#### Other Regression Models"
   ]
  },
  {
   "cell_type": "code",
   "execution_count": 26,
   "metadata": {
    "scrolled": true
   },
   "outputs": [
    {
     "name": "stdout",
     "output_type": "stream",
     "text": [
      "LassoLars() Accuracy:  0.9229911674763196\n",
      "LassoLars() RMSE:  158479.7194353456\n",
      "BayesianRidge() Accuracy:  0.9229929204162994\n",
      "BayesianRidge() RMSE:  158477.915700579\n",
      "ARDRegression() Accuracy:  0.9224172621343859\n",
      "ARDRegression() RMSE:  159069.1552725609\n",
      "PassiveAggressiveRegressor() Accuracy:  0.9118501079840241\n",
      "PassiveAggressiveRegressor() RMSE:  169556.45043241006\n",
      "HuberRegressor() Accuracy:  0.9139307183773122\n",
      "HuberRegressor() RMSE:  167543.47275920422\n"
     ]
    }
   ],
   "source": [
    "models = [LassoLars(), BayesianRidge(), ARDRegression(), PassiveAggressiveRegressor(), HuberRegressor()]\n",
    "for model in models:\n",
    "    model.fit(X_train, y_train)\n",
    "    print(model, \"Accuracy: \", model.score(X_test, y_test))\n",
    "    print(model, \"RMSE: \", mean_squared_error(y_test, model.predict(X_test), squared=False))"
   ]
  },
  {
   "cell_type": "markdown",
   "metadata": {},
   "source": [
    "### 6. Linear Regression - \"Data by Store and Type\""
   ]
  },
  {
   "cell_type": "markdown",
   "metadata": {},
   "source": [
    "#### Data Manipulation - Drop Markdown Columns"
   ]
  },
  {
   "cell_type": "code",
   "execution_count": 27,
   "metadata": {},
   "outputs": [],
   "source": [
    "data_by_store_type = data_by_store_type.drop([\"MarkDown1\",\"MarkDown2\",\"MarkDown3\",\"MarkDown4\",\"MarkDown5\"], 1)"
   ]
  },
  {
   "cell_type": "markdown",
   "metadata": {},
   "source": [
    "#### Data Manipulation - Year and Month"
   ]
  },
  {
   "cell_type": "code",
   "execution_count": 28,
   "metadata": {},
   "outputs": [],
   "source": [
    "data_by_store_type['Year'] = data_by_store_type['Date'].apply(lambda x: x[-4:])\n",
    "data_by_store_type['Month'] = data_by_store_type['Date'].apply(lambda x: x[3:5])\n",
    "\n",
    "data_by_store_type = data_by_store_type.drop('Date', 1)"
   ]
  },
  {
   "cell_type": "markdown",
   "metadata": {},
   "source": [
    "#### Data Manipulation - Create Dummies for Stores and Type"
   ]
  },
  {
   "cell_type": "code",
   "execution_count": 29,
   "metadata": {},
   "outputs": [],
   "source": [
    "#create dummy function\n",
    "\n",
    "def onehot_encode(df, column, prefix):\n",
    "    df = df.copy()\n",
    "    dummies=pd.get_dummies(df[column], prefix=prefix)\n",
    "    df = pd.concat([df, dummies], axis=1)\n",
    "    df = df.drop(column, axis=1)\n",
    "    return df"
   ]
  },
  {
   "cell_type": "code",
   "execution_count": 30,
   "metadata": {},
   "outputs": [],
   "source": [
    "#dummies for stores\n",
    "\n",
    "data_by_store_type = onehot_encode(data_by_store_type, column='Store', prefix=\"store\")"
   ]
  },
  {
   "cell_type": "code",
   "execution_count": 31,
   "metadata": {},
   "outputs": [],
   "source": [
    "#dummies for type\n",
    "\n",
    "data_by_store_type = onehot_encode(data_by_store_type, column='Type', prefix=\"type\")"
   ]
  },
  {
   "cell_type": "code",
   "execution_count": 32,
   "metadata": {},
   "outputs": [
    {
     "data": {
      "text/html": [
       "<div>\n",
       "<style scoped>\n",
       "    .dataframe tbody tr th:only-of-type {\n",
       "        vertical-align: middle;\n",
       "    }\n",
       "\n",
       "    .dataframe tbody tr th {\n",
       "        vertical-align: top;\n",
       "    }\n",
       "\n",
       "    .dataframe thead th {\n",
       "        text-align: right;\n",
       "    }\n",
       "</style>\n",
       "<table border=\"1\" class=\"dataframe\">\n",
       "  <thead>\n",
       "    <tr style=\"text-align: right;\">\n",
       "      <th></th>\n",
       "      <th>IsHoliday</th>\n",
       "      <th>Temperature</th>\n",
       "      <th>Fuel_Price</th>\n",
       "      <th>CPI</th>\n",
       "      <th>Unemployment</th>\n",
       "      <th>Size</th>\n",
       "      <th>Weekly_Sales</th>\n",
       "      <th>Year</th>\n",
       "      <th>Month</th>\n",
       "      <th>store_1</th>\n",
       "      <th>...</th>\n",
       "      <th>store_39</th>\n",
       "      <th>store_40</th>\n",
       "      <th>store_41</th>\n",
       "      <th>store_42</th>\n",
       "      <th>store_43</th>\n",
       "      <th>store_44</th>\n",
       "      <th>store_45</th>\n",
       "      <th>type_A</th>\n",
       "      <th>type_B</th>\n",
       "      <th>type_C</th>\n",
       "    </tr>\n",
       "  </thead>\n",
       "  <tbody>\n",
       "    <tr>\n",
       "      <th>0</th>\n",
       "      <td>False</td>\n",
       "      <td>59.17</td>\n",
       "      <td>3.524</td>\n",
       "      <td>214.837166</td>\n",
       "      <td>7.682</td>\n",
       "      <td>151315</td>\n",
       "      <td>1495064.75</td>\n",
       "      <td>2011</td>\n",
       "      <td>04</td>\n",
       "      <td>1</td>\n",
       "      <td>...</td>\n",
       "      <td>0</td>\n",
       "      <td>0</td>\n",
       "      <td>0</td>\n",
       "      <td>0</td>\n",
       "      <td>0</td>\n",
       "      <td>0</td>\n",
       "      <td>0</td>\n",
       "      <td>1</td>\n",
       "      <td>0</td>\n",
       "      <td>0</td>\n",
       "    </tr>\n",
       "    <tr>\n",
       "      <th>1</th>\n",
       "      <td>False</td>\n",
       "      <td>55.43</td>\n",
       "      <td>3.524</td>\n",
       "      <td>214.488691</td>\n",
       "      <td>7.931</td>\n",
       "      <td>202307</td>\n",
       "      <td>1800171.36</td>\n",
       "      <td>2011</td>\n",
       "      <td>04</td>\n",
       "      <td>0</td>\n",
       "      <td>...</td>\n",
       "      <td>0</td>\n",
       "      <td>0</td>\n",
       "      <td>0</td>\n",
       "      <td>0</td>\n",
       "      <td>0</td>\n",
       "      <td>0</td>\n",
       "      <td>0</td>\n",
       "      <td>1</td>\n",
       "      <td>0</td>\n",
       "      <td>0</td>\n",
       "    </tr>\n",
       "    <tr>\n",
       "      <th>2</th>\n",
       "      <td>False</td>\n",
       "      <td>68.76</td>\n",
       "      <td>3.524</td>\n",
       "      <td>218.211418</td>\n",
       "      <td>7.574</td>\n",
       "      <td>37392</td>\n",
       "      <td>374556.08</td>\n",
       "      <td>2011</td>\n",
       "      <td>04</td>\n",
       "      <td>0</td>\n",
       "      <td>...</td>\n",
       "      <td>0</td>\n",
       "      <td>0</td>\n",
       "      <td>0</td>\n",
       "      <td>0</td>\n",
       "      <td>0</td>\n",
       "      <td>0</td>\n",
       "      <td>0</td>\n",
       "      <td>0</td>\n",
       "      <td>1</td>\n",
       "      <td>0</td>\n",
       "    </tr>\n",
       "    <tr>\n",
       "      <th>3</th>\n",
       "      <td>False</td>\n",
       "      <td>56.99</td>\n",
       "      <td>3.521</td>\n",
       "      <td>128.719935</td>\n",
       "      <td>5.946</td>\n",
       "      <td>205863</td>\n",
       "      <td>1900246.47</td>\n",
       "      <td>2011</td>\n",
       "      <td>04</td>\n",
       "      <td>0</td>\n",
       "      <td>...</td>\n",
       "      <td>0</td>\n",
       "      <td>0</td>\n",
       "      <td>0</td>\n",
       "      <td>0</td>\n",
       "      <td>0</td>\n",
       "      <td>0</td>\n",
       "      <td>0</td>\n",
       "      <td>1</td>\n",
       "      <td>0</td>\n",
       "      <td>0</td>\n",
       "    </tr>\n",
       "    <tr>\n",
       "      <th>4</th>\n",
       "      <td>False</td>\n",
       "      <td>61.50</td>\n",
       "      <td>3.524</td>\n",
       "      <td>215.402441</td>\n",
       "      <td>6.489</td>\n",
       "      <td>34875</td>\n",
       "      <td>314316.55</td>\n",
       "      <td>2011</td>\n",
       "      <td>04</td>\n",
       "      <td>0</td>\n",
       "      <td>...</td>\n",
       "      <td>0</td>\n",
       "      <td>0</td>\n",
       "      <td>0</td>\n",
       "      <td>0</td>\n",
       "      <td>0</td>\n",
       "      <td>0</td>\n",
       "      <td>0</td>\n",
       "      <td>0</td>\n",
       "      <td>1</td>\n",
       "      <td>0</td>\n",
       "    </tr>\n",
       "    <tr>\n",
       "      <th>...</th>\n",
       "      <td>...</td>\n",
       "      <td>...</td>\n",
       "      <td>...</td>\n",
       "      <td>...</td>\n",
       "      <td>...</td>\n",
       "      <td>...</td>\n",
       "      <td>...</td>\n",
       "      <td>...</td>\n",
       "      <td>...</td>\n",
       "      <td>...</td>\n",
       "      <td>...</td>\n",
       "      <td>...</td>\n",
       "      <td>...</td>\n",
       "      <td>...</td>\n",
       "      <td>...</td>\n",
       "      <td>...</td>\n",
       "      <td>...</td>\n",
       "      <td>...</td>\n",
       "      <td>...</td>\n",
       "      <td>...</td>\n",
       "      <td>...</td>\n",
       "    </tr>\n",
       "    <tr>\n",
       "      <th>6430</th>\n",
       "      <td>True</td>\n",
       "      <td>25.19</td>\n",
       "      <td>2.829</td>\n",
       "      <td>191.255700</td>\n",
       "      <td>7.508</td>\n",
       "      <td>196321</td>\n",
       "      <td>1001790.16</td>\n",
       "      <td>2010</td>\n",
       "      <td>12</td>\n",
       "      <td>0</td>\n",
       "      <td>...</td>\n",
       "      <td>0</td>\n",
       "      <td>0</td>\n",
       "      <td>1</td>\n",
       "      <td>0</td>\n",
       "      <td>0</td>\n",
       "      <td>0</td>\n",
       "      <td>0</td>\n",
       "      <td>1</td>\n",
       "      <td>0</td>\n",
       "      <td>0</td>\n",
       "    </tr>\n",
       "    <tr>\n",
       "      <th>6431</th>\n",
       "      <td>True</td>\n",
       "      <td>49.67</td>\n",
       "      <td>3.148</td>\n",
       "      <td>127.087677</td>\n",
       "      <td>9.003</td>\n",
       "      <td>39690</td>\n",
       "      <td>428953.60</td>\n",
       "      <td>2010</td>\n",
       "      <td>12</td>\n",
       "      <td>0</td>\n",
       "      <td>...</td>\n",
       "      <td>0</td>\n",
       "      <td>0</td>\n",
       "      <td>0</td>\n",
       "      <td>1</td>\n",
       "      <td>0</td>\n",
       "      <td>0</td>\n",
       "      <td>0</td>\n",
       "      <td>0</td>\n",
       "      <td>0</td>\n",
       "      <td>1</td>\n",
       "    </tr>\n",
       "    <tr>\n",
       "      <th>6432</th>\n",
       "      <td>True</td>\n",
       "      <td>48.61</td>\n",
       "      <td>2.943</td>\n",
       "      <td>203.417684</td>\n",
       "      <td>10.210</td>\n",
       "      <td>41062</td>\n",
       "      <td>534740.30</td>\n",
       "      <td>2010</td>\n",
       "      <td>12</td>\n",
       "      <td>0</td>\n",
       "      <td>...</td>\n",
       "      <td>0</td>\n",
       "      <td>0</td>\n",
       "      <td>0</td>\n",
       "      <td>0</td>\n",
       "      <td>1</td>\n",
       "      <td>0</td>\n",
       "      <td>0</td>\n",
       "      <td>0</td>\n",
       "      <td>0</td>\n",
       "      <td>1</td>\n",
       "    </tr>\n",
       "    <tr>\n",
       "      <th>6433</th>\n",
       "      <td>True</td>\n",
       "      <td>26.79</td>\n",
       "      <td>2.868</td>\n",
       "      <td>127.087677</td>\n",
       "      <td>7.610</td>\n",
       "      <td>39910</td>\n",
       "      <td>241937.11</td>\n",
       "      <td>2010</td>\n",
       "      <td>12</td>\n",
       "      <td>0</td>\n",
       "      <td>...</td>\n",
       "      <td>0</td>\n",
       "      <td>0</td>\n",
       "      <td>0</td>\n",
       "      <td>0</td>\n",
       "      <td>0</td>\n",
       "      <td>1</td>\n",
       "      <td>0</td>\n",
       "      <td>0</td>\n",
       "      <td>0</td>\n",
       "      <td>1</td>\n",
       "    </tr>\n",
       "    <tr>\n",
       "      <th>6434</th>\n",
       "      <td>True</td>\n",
       "      <td>29.67</td>\n",
       "      <td>3.179</td>\n",
       "      <td>182.571448</td>\n",
       "      <td>8.724</td>\n",
       "      <td>118221</td>\n",
       "      <td>679156.20</td>\n",
       "      <td>2010</td>\n",
       "      <td>12</td>\n",
       "      <td>0</td>\n",
       "      <td>...</td>\n",
       "      <td>0</td>\n",
       "      <td>0</td>\n",
       "      <td>0</td>\n",
       "      <td>0</td>\n",
       "      <td>0</td>\n",
       "      <td>0</td>\n",
       "      <td>1</td>\n",
       "      <td>0</td>\n",
       "      <td>1</td>\n",
       "      <td>0</td>\n",
       "    </tr>\n",
       "  </tbody>\n",
       "</table>\n",
       "<p>6435 rows × 57 columns</p>\n",
       "</div>"
      ],
      "text/plain": [
       "      IsHoliday  Temperature  Fuel_Price         CPI  Unemployment    Size  \\\n",
       "0         False        59.17       3.524  214.837166         7.682  151315   \n",
       "1         False        55.43       3.524  214.488691         7.931  202307   \n",
       "2         False        68.76       3.524  218.211418         7.574   37392   \n",
       "3         False        56.99       3.521  128.719935         5.946  205863   \n",
       "4         False        61.50       3.524  215.402441         6.489   34875   \n",
       "...         ...          ...         ...         ...           ...     ...   \n",
       "6430       True        25.19       2.829  191.255700         7.508  196321   \n",
       "6431       True        49.67       3.148  127.087677         9.003   39690   \n",
       "6432       True        48.61       2.943  203.417684        10.210   41062   \n",
       "6433       True        26.79       2.868  127.087677         7.610   39910   \n",
       "6434       True        29.67       3.179  182.571448         8.724  118221   \n",
       "\n",
       "      Weekly_Sales  Year Month  store_1  ...  store_39  store_40  store_41  \\\n",
       "0       1495064.75  2011    04        1  ...         0         0         0   \n",
       "1       1800171.36  2011    04        0  ...         0         0         0   \n",
       "2        374556.08  2011    04        0  ...         0         0         0   \n",
       "3       1900246.47  2011    04        0  ...         0         0         0   \n",
       "4        314316.55  2011    04        0  ...         0         0         0   \n",
       "...            ...   ...   ...      ...  ...       ...       ...       ...   \n",
       "6430    1001790.16  2010    12        0  ...         0         0         1   \n",
       "6431     428953.60  2010    12        0  ...         0         0         0   \n",
       "6432     534740.30  2010    12        0  ...         0         0         0   \n",
       "6433     241937.11  2010    12        0  ...         0         0         0   \n",
       "6434     679156.20  2010    12        0  ...         0         0         0   \n",
       "\n",
       "      store_42  store_43  store_44  store_45  type_A  type_B  type_C  \n",
       "0            0         0         0         0       1       0       0  \n",
       "1            0         0         0         0       1       0       0  \n",
       "2            0         0         0         0       0       1       0  \n",
       "3            0         0         0         0       1       0       0  \n",
       "4            0         0         0         0       0       1       0  \n",
       "...        ...       ...       ...       ...     ...     ...     ...  \n",
       "6430         0         0         0         0       1       0       0  \n",
       "6431         1         0         0         0       0       0       1  \n",
       "6432         0         1         0         0       0       0       1  \n",
       "6433         0         0         1         0       0       0       1  \n",
       "6434         0         0         0         1       0       1       0  \n",
       "\n",
       "[6435 rows x 57 columns]"
      ]
     },
     "execution_count": 32,
     "metadata": {},
     "output_type": "execute_result"
    }
   ],
   "source": [
    "data_by_store_type"
   ]
  },
  {
   "cell_type": "markdown",
   "metadata": {},
   "source": [
    "#### Split and Scale Data"
   ]
  },
  {
   "cell_type": "code",
   "execution_count": 33,
   "metadata": {},
   "outputs": [],
   "source": [
    "y = data_by_store_type['Weekly_Sales'].copy()\n",
    "X = data_by_store_type.drop('Weekly_Sales', axis=1).copy()"
   ]
  },
  {
   "cell_type": "code",
   "execution_count": 34,
   "metadata": {},
   "outputs": [],
   "source": [
    "scaler = StandardScaler()\n",
    "\n",
    "X = scaler.fit_transform(X)"
   ]
  },
  {
   "cell_type": "code",
   "execution_count": 35,
   "metadata": {},
   "outputs": [],
   "source": [
    "X_train, X_test, y_train, y_test = train_test_split(X, y, train_size=0.7)"
   ]
  },
  {
   "cell_type": "markdown",
   "metadata": {},
   "source": [
    "#### Linear Regression Model"
   ]
  },
  {
   "cell_type": "code",
   "execution_count": 36,
   "metadata": {},
   "outputs": [],
   "source": [
    "lm_model = LinearRegression()"
   ]
  },
  {
   "cell_type": "code",
   "execution_count": 37,
   "metadata": {},
   "outputs": [
    {
     "data": {
      "text/plain": [
       "LinearRegression()"
      ]
     },
     "execution_count": 37,
     "metadata": {},
     "output_type": "execute_result"
    }
   ],
   "source": [
    "lm_model.fit(X_train, y_train)"
   ]
  },
  {
   "cell_type": "code",
   "execution_count": 38,
   "metadata": {
    "scrolled": false
   },
   "outputs": [
    {
     "name": "stdout",
     "output_type": "stream",
     "text": [
      "Linear Regression Accuracy: 0.9211536493394825\n",
      "Linear Regression RMSE:  159311.5521306117\n"
     ]
    }
   ],
   "source": [
    "print(\"Linear Regression Accuracy:\", lm_model.score(X_test, y_test))\n",
    "print(\"Linear Regression RMSE: \", mean_squared_error(y_test, lm_model.predict(X_test), squared=False))"
   ]
  },
  {
   "cell_type": "markdown",
   "metadata": {},
   "source": [
    "#### Other Regression Models"
   ]
  },
  {
   "cell_type": "code",
   "execution_count": 39,
   "metadata": {
    "scrolled": true
   },
   "outputs": [
    {
     "name": "stdout",
     "output_type": "stream",
     "text": [
      "LassoLars() Accuracy:  0.9212025961582317\n",
      "LassoLars() RMSE:  159262.09515403517\n",
      "BayesianRidge() Accuracy:  0.9212157340392141\n",
      "BayesianRidge() RMSE:  159248.81772628127\n",
      "ARDRegression() Accuracy:  0.9202406715427018\n",
      "ARDRegression() RMSE:  160231.2477547553\n",
      "PassiveAggressiveRegressor() Accuracy:  0.9093363538612498\n",
      "PassiveAggressiveRegressor() RMSE:  170833.50862440717\n",
      "HuberRegressor() Accuracy:  0.9116261924621053\n",
      "HuberRegressor() RMSE:  168662.39136914324\n"
     ]
    }
   ],
   "source": [
    "models = [LassoLars(), BayesianRidge(), ARDRegression(), PassiveAggressiveRegressor(), HuberRegressor()]\n",
    "for model in models:\n",
    "    model.fit(X_train, y_train)\n",
    "    print(model, \"Accuracy: \", model.score(X_test, y_test))\n",
    "    print(model, \"RMSE: \", mean_squared_error(y_test, model.predict(X_test), squared=False))"
   ]
  },
  {
   "cell_type": "markdown",
   "metadata": {},
   "source": [
    "### 7. Linear Regression - \"Data by Store, Type and Dept\""
   ]
  },
  {
   "cell_type": "markdown",
   "metadata": {},
   "source": [
    "#### Data Exploration"
   ]
  },
  {
   "cell_type": "code",
   "execution_count": 40,
   "metadata": {},
   "outputs": [
    {
     "data": {
      "text/html": [
       "<div>\n",
       "<style scoped>\n",
       "    .dataframe tbody tr th:only-of-type {\n",
       "        vertical-align: middle;\n",
       "    }\n",
       "\n",
       "    .dataframe tbody tr th {\n",
       "        vertical-align: top;\n",
       "    }\n",
       "\n",
       "    .dataframe thead th {\n",
       "        text-align: right;\n",
       "    }\n",
       "</style>\n",
       "<table border=\"1\" class=\"dataframe\">\n",
       "  <thead>\n",
       "    <tr style=\"text-align: right;\">\n",
       "      <th></th>\n",
       "      <th>Store</th>\n",
       "      <th>Dept</th>\n",
       "      <th>Date</th>\n",
       "      <th>Weekly_Sales</th>\n",
       "      <th>IsHoliday</th>\n",
       "      <th>Temperature</th>\n",
       "      <th>Fuel_Price</th>\n",
       "      <th>MarkDown1</th>\n",
       "      <th>MarkDown2</th>\n",
       "      <th>MarkDown3</th>\n",
       "      <th>MarkDown4</th>\n",
       "      <th>MarkDown5</th>\n",
       "      <th>CPI</th>\n",
       "      <th>Unemployment</th>\n",
       "      <th>Type</th>\n",
       "      <th>Size</th>\n",
       "    </tr>\n",
       "  </thead>\n",
       "  <tbody>\n",
       "    <tr>\n",
       "      <th>0</th>\n",
       "      <td>1</td>\n",
       "      <td>1</td>\n",
       "      <td>05/02/2010</td>\n",
       "      <td>24924.50</td>\n",
       "      <td>False</td>\n",
       "      <td>42.31</td>\n",
       "      <td>2.572</td>\n",
       "      <td>NaN</td>\n",
       "      <td>NaN</td>\n",
       "      <td>NaN</td>\n",
       "      <td>NaN</td>\n",
       "      <td>NaN</td>\n",
       "      <td>211.096358</td>\n",
       "      <td>8.106</td>\n",
       "      <td>A</td>\n",
       "      <td>151315</td>\n",
       "    </tr>\n",
       "    <tr>\n",
       "      <th>1</th>\n",
       "      <td>1</td>\n",
       "      <td>1</td>\n",
       "      <td>12/02/2010</td>\n",
       "      <td>46039.49</td>\n",
       "      <td>True</td>\n",
       "      <td>38.51</td>\n",
       "      <td>2.548</td>\n",
       "      <td>NaN</td>\n",
       "      <td>NaN</td>\n",
       "      <td>NaN</td>\n",
       "      <td>NaN</td>\n",
       "      <td>NaN</td>\n",
       "      <td>211.242170</td>\n",
       "      <td>8.106</td>\n",
       "      <td>A</td>\n",
       "      <td>151315</td>\n",
       "    </tr>\n",
       "    <tr>\n",
       "      <th>2</th>\n",
       "      <td>1</td>\n",
       "      <td>1</td>\n",
       "      <td>19/02/2010</td>\n",
       "      <td>41595.55</td>\n",
       "      <td>False</td>\n",
       "      <td>39.93</td>\n",
       "      <td>2.514</td>\n",
       "      <td>NaN</td>\n",
       "      <td>NaN</td>\n",
       "      <td>NaN</td>\n",
       "      <td>NaN</td>\n",
       "      <td>NaN</td>\n",
       "      <td>211.289143</td>\n",
       "      <td>8.106</td>\n",
       "      <td>A</td>\n",
       "      <td>151315</td>\n",
       "    </tr>\n",
       "    <tr>\n",
       "      <th>3</th>\n",
       "      <td>1</td>\n",
       "      <td>1</td>\n",
       "      <td>26/02/2010</td>\n",
       "      <td>19403.54</td>\n",
       "      <td>False</td>\n",
       "      <td>46.63</td>\n",
       "      <td>2.561</td>\n",
       "      <td>NaN</td>\n",
       "      <td>NaN</td>\n",
       "      <td>NaN</td>\n",
       "      <td>NaN</td>\n",
       "      <td>NaN</td>\n",
       "      <td>211.319643</td>\n",
       "      <td>8.106</td>\n",
       "      <td>A</td>\n",
       "      <td>151315</td>\n",
       "    </tr>\n",
       "    <tr>\n",
       "      <th>4</th>\n",
       "      <td>1</td>\n",
       "      <td>1</td>\n",
       "      <td>05/03/2010</td>\n",
       "      <td>21827.90</td>\n",
       "      <td>False</td>\n",
       "      <td>46.50</td>\n",
       "      <td>2.625</td>\n",
       "      <td>NaN</td>\n",
       "      <td>NaN</td>\n",
       "      <td>NaN</td>\n",
       "      <td>NaN</td>\n",
       "      <td>NaN</td>\n",
       "      <td>211.350143</td>\n",
       "      <td>8.106</td>\n",
       "      <td>A</td>\n",
       "      <td>151315</td>\n",
       "    </tr>\n",
       "  </tbody>\n",
       "</table>\n",
       "</div>"
      ],
      "text/plain": [
       "   Store  Dept        Date  Weekly_Sales  IsHoliday  Temperature  Fuel_Price  \\\n",
       "0      1     1  05/02/2010      24924.50      False        42.31       2.572   \n",
       "1      1     1  12/02/2010      46039.49       True        38.51       2.548   \n",
       "2      1     1  19/02/2010      41595.55      False        39.93       2.514   \n",
       "3      1     1  26/02/2010      19403.54      False        46.63       2.561   \n",
       "4      1     1  05/03/2010      21827.90      False        46.50       2.625   \n",
       "\n",
       "   MarkDown1  MarkDown2  MarkDown3  MarkDown4  MarkDown5         CPI  \\\n",
       "0        NaN        NaN        NaN        NaN        NaN  211.096358   \n",
       "1        NaN        NaN        NaN        NaN        NaN  211.242170   \n",
       "2        NaN        NaN        NaN        NaN        NaN  211.289143   \n",
       "3        NaN        NaN        NaN        NaN        NaN  211.319643   \n",
       "4        NaN        NaN        NaN        NaN        NaN  211.350143   \n",
       "\n",
       "   Unemployment Type    Size  \n",
       "0         8.106    A  151315  \n",
       "1         8.106    A  151315  \n",
       "2         8.106    A  151315  \n",
       "3         8.106    A  151315  \n",
       "4         8.106    A  151315  "
      ]
     },
     "execution_count": 40,
     "metadata": {},
     "output_type": "execute_result"
    }
   ],
   "source": [
    "data_by_dept.head()"
   ]
  },
  {
   "cell_type": "markdown",
   "metadata": {},
   "source": [
    "#### Data Manipulation - Drop Markdown Columns"
   ]
  },
  {
   "cell_type": "code",
   "execution_count": 41,
   "metadata": {},
   "outputs": [],
   "source": [
    "data_by_dept = data_by_dept.drop([\"MarkDown1\",\"MarkDown2\",\"MarkDown3\",\"MarkDown4\",\"MarkDown5\"], 1)"
   ]
  },
  {
   "cell_type": "markdown",
   "metadata": {},
   "source": [
    "#### Data Manipulation - Year and Month"
   ]
  },
  {
   "cell_type": "code",
   "execution_count": 42,
   "metadata": {},
   "outputs": [],
   "source": [
    "data_by_dept['Year'] = data_by_dept['Date'].apply(lambda x: x[-4:])\n",
    "data_by_dept['Month'] = data_by_dept['Date'].apply(lambda x: x[3:5])\n",
    "\n",
    "data_by_dept = data_by_dept.drop('Date', 1)"
   ]
  },
  {
   "cell_type": "markdown",
   "metadata": {},
   "source": [
    "#### Data Manipulation - Create Dummies for Stores, Type and Department"
   ]
  },
  {
   "cell_type": "code",
   "execution_count": 43,
   "metadata": {},
   "outputs": [],
   "source": [
    "#create dummy function\n",
    "\n",
    "def onehot_encode(df, column, prefix):\n",
    "    df = df.copy()\n",
    "    dummies=pd.get_dummies(df[column], prefix=prefix)\n",
    "    df = pd.concat([df, dummies], axis=1)\n",
    "    df = df.drop(column, axis=1)\n",
    "    return df"
   ]
  },
  {
   "cell_type": "code",
   "execution_count": 44,
   "metadata": {},
   "outputs": [],
   "source": [
    "#dummies for stores\n",
    "\n",
    "data_by_dept = onehot_encode(data_by_dept, column='Store', prefix=\"store\")"
   ]
  },
  {
   "cell_type": "code",
   "execution_count": 45,
   "metadata": {},
   "outputs": [],
   "source": [
    "#dummies for type\n",
    "\n",
    "data_by_dept = onehot_encode(data_by_dept, column='Type', prefix=\"type\")"
   ]
  },
  {
   "cell_type": "code",
   "execution_count": 46,
   "metadata": {},
   "outputs": [],
   "source": [
    "#dummies for dept\n",
    "\n",
    "data_by_dept = onehot_encode(data_by_dept, column='Dept', prefix=\"dept\")"
   ]
  },
  {
   "cell_type": "markdown",
   "metadata": {},
   "source": [
    "#### Split and Scale Data"
   ]
  },
  {
   "cell_type": "code",
   "execution_count": 47,
   "metadata": {},
   "outputs": [],
   "source": [
    "y = data_by_dept['Weekly_Sales'].copy()\n",
    "X = data_by_dept.drop('Weekly_Sales', axis=1).copy()"
   ]
  },
  {
   "cell_type": "code",
   "execution_count": 48,
   "metadata": {},
   "outputs": [],
   "source": [
    "scaler = StandardScaler()\n",
    "\n",
    "X = scaler.fit_transform(X)"
   ]
  },
  {
   "cell_type": "code",
   "execution_count": 49,
   "metadata": {},
   "outputs": [],
   "source": [
    "X_train, X_test, y_train, y_test = train_test_split(X, y, train_size=0.7)"
   ]
  },
  {
   "cell_type": "markdown",
   "metadata": {},
   "source": [
    "#### Linear Regression Model"
   ]
  },
  {
   "cell_type": "code",
   "execution_count": 50,
   "metadata": {},
   "outputs": [],
   "source": [
    "lm_model = LinearRegression()"
   ]
  },
  {
   "cell_type": "code",
   "execution_count": 51,
   "metadata": {},
   "outputs": [
    {
     "data": {
      "text/plain": [
       "LinearRegression()"
      ]
     },
     "execution_count": 51,
     "metadata": {},
     "output_type": "execute_result"
    }
   ],
   "source": [
    "lm_model.fit(X_train, y_train)"
   ]
  },
  {
   "cell_type": "code",
   "execution_count": 52,
   "metadata": {
    "scrolled": false
   },
   "outputs": [
    {
     "name": "stdout",
     "output_type": "stream",
     "text": [
      "Linear Regression Accuracy: 0.6620206294733166\n",
      "Linear Regression RMSE:  13214.24253244887\n"
     ]
    }
   ],
   "source": [
    "print(\"Linear Regression Accuracy:\", lm_model.score(X_test, y_test))\n",
    "print(\"Linear Regression RMSE: \", mean_squared_error(y_test, lm_model.predict(X_test), squared=False))"
   ]
  },
  {
   "cell_type": "markdown",
   "metadata": {},
   "source": [
    "#### Other Regression Models"
   ]
  },
  {
   "cell_type": "code",
   "execution_count": 53,
   "metadata": {
    "scrolled": true
   },
   "outputs": [
    {
     "name": "stdout",
     "output_type": "stream",
     "text": [
      "LassoLars() Accuracy:  0.6072990920219425\n",
      "LassoLars() RMSE:  14243.87421536951\n",
      "BayesianRidge() Accuracy:  0.6620051034672292\n",
      "BayesianRidge() RMSE:  13214.54604513596\n",
      "ARDRegression() Accuracy:  0.6619860471042419\n",
      "ARDRegression() RMSE:  13214.918562057623\n",
      "PassiveAggressiveRegressor() Accuracy:  0.6195075089583636\n",
      "PassiveAggressiveRegressor() RMSE:  14020.716966461781\n",
      "HuberRegressor() Accuracy:  0.6272912553213021\n",
      "HuberRegressor() RMSE:  13876.56481086923\n"
     ]
    }
   ],
   "source": [
    "models = [LassoLars(), BayesianRidge(), ARDRegression(), PassiveAggressiveRegressor(), HuberRegressor()]\n",
    "for model in models:\n",
    "    model.fit(X_train, y_train)\n",
    "    print(model, \"Accuracy: \", model.score(X_test, y_test))\n",
    "    print(model, \"RMSE: \", mean_squared_error(y_test, model.predict(X_test), squared=False))"
   ]
  }
 ],
 "metadata": {
  "kernelspec": {
   "display_name": "Python 3",
   "language": "python",
   "name": "python3"
  },
  "language_info": {
   "codemirror_mode": {
    "name": "ipython",
    "version": 3
   },
   "file_extension": ".py",
   "mimetype": "text/x-python",
   "name": "python",
   "nbconvert_exporter": "python",
   "pygments_lexer": "ipython3",
   "version": "3.8.3"
  }
 },
 "nbformat": 4,
 "nbformat_minor": 2
}
